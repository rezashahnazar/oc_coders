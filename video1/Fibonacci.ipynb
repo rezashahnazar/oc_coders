{
  "nbformat": 4,
  "nbformat_minor": 0,
  "metadata": {
    "colab": {
      "name": "Fibonacci.ipynb",
      "provenance": []
    },
    "kernelspec": {
      "name": "python3",
      "display_name": "Python 3"
    },
    "language_info": {
      "name": "python"
    }
  },
  "cells": [
    {
      "cell_type": "code",
      "metadata": {
        "id": "eue5Xxyol21M"
      },
      "source": [
        "a = 1"
      ],
      "execution_count": null,
      "outputs": []
    },
    {
      "cell_type": "code",
      "metadata": {
        "id": "5hQ4AucCmQaI"
      },
      "source": [
        "b = 1"
      ],
      "execution_count": null,
      "outputs": []
    },
    {
      "cell_type": "markdown",
      "metadata": {
        "id": "F-AUirIinn_N"
      },
      "source": [
        "AZ INJA TEKRAR SHAVAD"
      ]
    },
    {
      "cell_type": "code",
      "metadata": {
        "id": "nGMQvdLgmwbT"
      },
      "source": [
        "new = a + b\n",
        "a = b\n",
        "b = new\n",
        "print ( a, b )"
      ],
      "execution_count": null,
      "outputs": []
    },
    {
      "cell_type": "code",
      "metadata": {
        "colab": {
          "base_uri": "https://localhost:8080/"
        },
        "id": "Rsa_Fbpsoc0U",
        "outputId": "0721f705-2f1f-479b-aedd-97d1dd91f857"
      },
      "source": [
        "while b < 1000000000 :\n",
        "  new = a + b\n",
        "  a = b\n",
        "  b = new\n",
        "  print (a , b )\n",
        "else:\n",
        "  print('Man Dige Nemitunam Edame Bedam')"
      ],
      "execution_count": null,
      "outputs": [
        {
          "output_type": "stream",
          "text": [
            "75025 121393\n",
            "121393 196418\n",
            "196418 317811\n",
            "317811 514229\n",
            "514229 832040\n",
            "832040 1346269\n",
            "1346269 2178309\n",
            "2178309 3524578\n",
            "3524578 5702887\n",
            "5702887 9227465\n",
            "9227465 14930352\n",
            "14930352 24157817\n",
            "24157817 39088169\n",
            "39088169 63245986\n",
            "63245986 102334155\n",
            "102334155 165580141\n",
            "165580141 267914296\n",
            "267914296 433494437\n",
            "433494437 701408733\n",
            "701408733 1134903170\n",
            "Man Dige Nemitunam Edame Bedam\n"
          ],
          "name": "stdout"
        }
      ]
    },
    {
      "cell_type": "code",
      "metadata": {
        "colab": {
          "base_uri": "https://localhost:8080/"
        },
        "id": "gYiou_FDqj8y",
        "outputId": "1e8a8ca1-c8da-4f1a-9772-717f0121cb7b"
      },
      "source": [
        "print (b)"
      ],
      "execution_count": null,
      "outputs": [
        {
          "output_type": "stream",
          "text": [
            "1134903170\n"
          ],
          "name": "stdout"
        }
      ]
    },
    {
      "cell_type": "code",
      "metadata": {
        "colab": {
          "base_uri": "https://localhost:8080/"
        },
        "id": "0dvrnLyLraLB",
        "outputId": "24e8857b-1a0a-46f8-bffb-aae21a2a2829"
      },
      "source": [
        "print ('Avvalin adade bozorgtar az 1000000000 dar donbaleye fibonacci barabar ast ba : ' , b )"
      ],
      "execution_count": null,
      "outputs": [
        {
          "output_type": "stream",
          "text": [
            "Avvalin adade bozorgtar az 1000000000 dar donbaleye fibonacci barabar ast ba :  1134903170\n"
          ],
          "name": "stdout"
        }
      ]
    }
  ]
}