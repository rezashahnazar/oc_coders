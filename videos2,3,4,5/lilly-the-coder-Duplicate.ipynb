{
  "cells": [
    {
      "cell_type": "code",
      "metadata": {
        "tags": [],
        "cell_id": "00000-2d522aa7-2a27-4221-9360-8b8d0c08d310",
        "deepnote_to_be_reexecuted": false,
        "source_hash": "92f44d58",
        "execution_millis": 0,
        "execution_start": 1617918926475,
        "deepnote_cell_type": "code"
      },
      "source": "week = [8 , 4 , 7 , 6 , 6 , 4 , 6]",
      "execution_count": 1,
      "outputs": []
    },
    {
      "cell_type": "code",
      "metadata": {
        "tags": [],
        "cell_id": "00001-dcc48577-810c-4768-9dbf-63adc0a6583f",
        "deepnote_to_be_reexecuted": false,
        "source_hash": "dabbb2cb",
        "execution_millis": 17,
        "execution_start": 1617918926483,
        "deepnote_cell_type": "code"
      },
      "source": "print(week)",
      "execution_count": 2,
      "outputs": [
        {
          "name": "stdout",
          "text": "[8, 4, 7, 6, 6, 4, 6]\n",
          "output_type": "stream"
        }
      ]
    },
    {
      "cell_type": "code",
      "metadata": {
        "tags": [],
        "cell_id": "00002-29256271-e512-483b-8812-12d076391b44",
        "deepnote_to_be_reexecuted": false,
        "source_hash": "23d3ec80",
        "execution_millis": 18,
        "execution_start": 1617918926484,
        "deepnote_cell_type": "code"
      },
      "source": "week",
      "execution_count": 3,
      "outputs": [
        {
          "output_type": "execute_result",
          "execution_count": 3,
          "data": {
            "text/plain": "[8, 4, 7, 6, 6, 4, 6]"
          },
          "metadata": {}
        }
      ]
    },
    {
      "cell_type": "code",
      "metadata": {
        "tags": [],
        "cell_id": "00003-bc05bcc9-feef-49c0-92ad-aa5c561acffb",
        "deepnote_to_be_reexecuted": false,
        "source_hash": "c33d81f0",
        "execution_millis": 29,
        "execution_start": 1617918926503,
        "deepnote_cell_type": "code"
      },
      "source": "week[0]",
      "execution_count": 4,
      "outputs": [
        {
          "output_type": "execute_result",
          "execution_count": 4,
          "data": {
            "text/plain": "8"
          },
          "metadata": {}
        }
      ]
    },
    {
      "cell_type": "code",
      "metadata": {
        "tags": [],
        "cell_id": "00004-dd5549e1-9480-4a9a-8d84-f4fd4ce11ea5",
        "deepnote_to_be_reexecuted": false,
        "source_hash": "a7ccda44",
        "execution_millis": 28,
        "execution_start": 1617918926504,
        "deepnote_cell_type": "code"
      },
      "source": "week[1]",
      "execution_count": 5,
      "outputs": [
        {
          "output_type": "execute_result",
          "execution_count": 5,
          "data": {
            "text/plain": "4"
          },
          "metadata": {}
        }
      ]
    },
    {
      "cell_type": "code",
      "metadata": {
        "tags": [],
        "cell_id": "00005-19f769f4-5043-4f88-85d8-0983e94662dd",
        "deepnote_to_be_reexecuted": false,
        "source_hash": "68725dcd",
        "execution_millis": 28,
        "execution_start": 1617918926505,
        "deepnote_cell_type": "code"
      },
      "source": "week[5]",
      "execution_count": 6,
      "outputs": [
        {
          "output_type": "execute_result",
          "execution_count": 6,
          "data": {
            "text/plain": "4"
          },
          "metadata": {}
        }
      ]
    },
    {
      "cell_type": "code",
      "metadata": {
        "tags": [],
        "cell_id": "00006-083fd5e7-1480-4c87-8e68-8177dc4faa38",
        "deepnote_to_be_reexecuted": false,
        "source_hash": "51bd7eeb",
        "execution_millis": 23,
        "execution_start": 1617918926510,
        "deepnote_cell_type": "code"
      },
      "source": "sum(week)",
      "execution_count": 7,
      "outputs": [
        {
          "output_type": "execute_result",
          "execution_count": 7,
          "data": {
            "text/plain": "41"
          },
          "metadata": {}
        }
      ]
    },
    {
      "cell_type": "code",
      "metadata": {
        "tags": [],
        "cell_id": "00007-a6881fe2-19d7-4570-bca5-9f7551eb1a04",
        "deepnote_to_be_reexecuted": false,
        "source_hash": "9ec66127",
        "execution_millis": 1,
        "execution_start": 1617918926515,
        "deepnote_cell_type": "code"
      },
      "source": "Q1 = sum(week)",
      "execution_count": 8,
      "outputs": []
    },
    {
      "cell_type": "code",
      "metadata": {
        "tags": [],
        "cell_id": "00008-c86d63db-7dab-4d40-9add-556f748199e4",
        "deepnote_to_be_reexecuted": false,
        "source_hash": "ad9f7a68",
        "execution_millis": 15,
        "execution_start": 1617918926518,
        "deepnote_cell_type": "code"
      },
      "source": "Q1",
      "execution_count": 9,
      "outputs": [
        {
          "output_type": "execute_result",
          "execution_count": 9,
          "data": {
            "text/plain": "41"
          },
          "metadata": {}
        }
      ]
    },
    {
      "cell_type": "code",
      "metadata": {
        "tags": [],
        "cell_id": "00009-2e834e71-41d9-4a1d-8638-ffc5254e8f4d",
        "deepnote_to_be_reexecuted": false,
        "source_hash": "50a6bfdf",
        "execution_millis": 1,
        "execution_start": 1617918926524,
        "deepnote_cell_type": "code"
      },
      "source": "zoj = week[0]+week[2]+week[4]",
      "execution_count": 10,
      "outputs": []
    },
    {
      "cell_type": "code",
      "metadata": {
        "tags": [],
        "cell_id": "00010-ffa4f2da-da1d-4f1d-8d6c-eb0447f5b19f",
        "deepnote_to_be_reexecuted": false,
        "source_hash": "37b457a",
        "execution_millis": 1,
        "execution_start": 1617918926543,
        "deepnote_cell_type": "code"
      },
      "source": "fard = week[1]+week[3]+week[5]",
      "execution_count": 11,
      "outputs": []
    },
    {
      "cell_type": "code",
      "metadata": {
        "tags": [],
        "cell_id": "00011-5ed6c272-170a-4d99-920c-2560986d0637",
        "deepnote_to_be_reexecuted": false,
        "source_hash": "6081520e",
        "execution_millis": 13,
        "execution_start": 1617918926544,
        "deepnote_cell_type": "code"
      },
      "source": "print(zoj , fard)",
      "execution_count": 12,
      "outputs": [
        {
          "name": "stdout",
          "text": "21 14\n",
          "output_type": "stream"
        }
      ]
    },
    {
      "cell_type": "code",
      "metadata": {
        "tags": [],
        "cell_id": "00012-eed5ce3b-4218-4b43-9789-6fd608217fec",
        "deepnote_to_be_reexecuted": false,
        "source_hash": "feec9cec",
        "execution_millis": 12,
        "execution_start": 1617918926545,
        "deepnote_cell_type": "code"
      },
      "source": "print('Jame Ruzhaye Zoj:',zoj , 'Jame Ruzhaye Fard:' ,fard)",
      "execution_count": 13,
      "outputs": [
        {
          "name": "stdout",
          "text": "Jame Ruzhaye Zoj: 21 Jame Ruzhaye Fard: 14\n",
          "output_type": "stream"
        }
      ]
    },
    {
      "cell_type": "code",
      "metadata": {
        "tags": [],
        "cell_id": "00013-24ac3a14-897d-412d-ae2f-b382d35ec5c1",
        "deepnote_to_be_reexecuted": false,
        "source_hash": "f47e417b",
        "execution_millis": 1,
        "execution_start": 1617918926546,
        "deepnote_cell_type": "code"
      },
      "source": "Q2 = [zoj , fard]",
      "execution_count": 14,
      "outputs": []
    },
    {
      "cell_type": "code",
      "metadata": {
        "tags": [],
        "cell_id": "00014-a437c269-35f1-450c-8d32-4866a3a8bdeb",
        "deepnote_to_be_reexecuted": false,
        "source_hash": "3e5489fd",
        "execution_millis": 8,
        "execution_start": 1617918926549,
        "deepnote_cell_type": "code"
      },
      "source": "Q2",
      "execution_count": 15,
      "outputs": [
        {
          "output_type": "execute_result",
          "execution_count": 15,
          "data": {
            "text/plain": "[21, 14]"
          },
          "metadata": {}
        }
      ]
    },
    {
      "cell_type": "code",
      "metadata": {
        "tags": [],
        "cell_id": "00015-291ab633-05ae-4434-8234-54a88a4ac40f",
        "deepnote_to_be_reexecuted": false,
        "source_hash": "3d83fccb",
        "execution_millis": 122,
        "execution_start": 1617918926591,
        "deepnote_cell_type": "code"
      },
      "source": "sum(week)/7",
      "execution_count": 16,
      "outputs": [
        {
          "output_type": "execute_result",
          "execution_count": 16,
          "data": {
            "text/plain": "5.857142857142857"
          },
          "metadata": {}
        }
      ]
    },
    {
      "cell_type": "code",
      "metadata": {
        "tags": [],
        "cell_id": "00016-753c6a79-e27b-40be-aefc-2d93e8834d3b",
        "deepnote_to_be_reexecuted": false,
        "source_hash": "bd5d4455",
        "execution_millis": 120,
        "execution_start": 1617918926593,
        "deepnote_cell_type": "code"
      },
      "source": "len(week)",
      "execution_count": 17,
      "outputs": [
        {
          "output_type": "execute_result",
          "execution_count": 17,
          "data": {
            "text/plain": "7"
          },
          "metadata": {}
        }
      ]
    },
    {
      "cell_type": "code",
      "metadata": {
        "tags": [],
        "cell_id": "00017-460fdeca-2432-4a08-b1a4-00fd9cde15ab",
        "deepnote_to_be_reexecuted": false,
        "source_hash": "58029d1",
        "execution_millis": 1,
        "execution_start": 1617918926593,
        "deepnote_cell_type": "code"
      },
      "source": "haminjoori = [ 5, 6 , 2 ,2]",
      "execution_count": 18,
      "outputs": []
    },
    {
      "cell_type": "code",
      "metadata": {
        "tags": [],
        "cell_id": "00018-d232b43a-5a71-40e8-8696-ac32769dd70e",
        "deepnote_to_be_reexecuted": false,
        "source_hash": "9f197747",
        "execution_millis": 118,
        "execution_start": 1617918926595,
        "deepnote_cell_type": "code"
      },
      "source": "len(haminjoori)",
      "execution_count": 19,
      "outputs": [
        {
          "output_type": "execute_result",
          "execution_count": 19,
          "data": {
            "text/plain": "4"
          },
          "metadata": {}
        }
      ]
    },
    {
      "cell_type": "code",
      "metadata": {
        "tags": [],
        "cell_id": "00019-929824cf-dadc-4b8a-bf8b-d30c612eb587",
        "deepnote_to_be_reexecuted": false,
        "source_hash": "92f7c299",
        "execution_millis": 115,
        "execution_start": 1617918926598,
        "deepnote_cell_type": "code"
      },
      "source": "sum(week)/len(week)",
      "execution_count": 20,
      "outputs": [
        {
          "output_type": "execute_result",
          "execution_count": 20,
          "data": {
            "text/plain": "5.857142857142857"
          },
          "metadata": {}
        }
      ]
    },
    {
      "cell_type": "code",
      "metadata": {
        "tags": [],
        "cell_id": "00020-620246e0-b743-4436-a64c-3bb527b56e4d",
        "deepnote_to_be_reexecuted": false,
        "source_hash": "faea3332",
        "execution_millis": 0,
        "execution_start": 1617918926607,
        "deepnote_cell_type": "code"
      },
      "source": "Q3 = round(sum(week)/len(week),2)",
      "execution_count": 21,
      "outputs": []
    },
    {
      "cell_type": "code",
      "metadata": {
        "tags": [],
        "cell_id": "00021-e24d300d-e762-4e74-a8c9-afb2f3653bbf",
        "deepnote_to_be_reexecuted": false,
        "source_hash": "d2828a31",
        "execution_millis": 103,
        "execution_start": 1617918926610,
        "deepnote_cell_type": "code"
      },
      "source": "print(Q3)",
      "execution_count": 22,
      "outputs": [
        {
          "name": "stdout",
          "text": "5.86\n",
          "output_type": "stream"
        }
      ]
    },
    {
      "cell_type": "code",
      "metadata": {
        "tags": [],
        "cell_id": "00022-e78a378e-f563-4d04-a423-55ef214f4ac9",
        "deepnote_to_be_reexecuted": false,
        "source_hash": "7ccd9e60",
        "execution_millis": 98,
        "execution_start": 1617918926615,
        "deepnote_cell_type": "code"
      },
      "source": "for x in week:\n    print(x)",
      "execution_count": 23,
      "outputs": [
        {
          "name": "stdout",
          "text": "8\n4\n7\n6\n6\n4\n6\n",
          "output_type": "stream"
        }
      ]
    },
    {
      "cell_type": "code",
      "metadata": {
        "tags": [],
        "cell_id": "00023-006f4605-cbc9-4896-b90d-fbe134fd9cd7",
        "deepnote_to_be_reexecuted": false,
        "source_hash": "74a74438",
        "execution_millis": 81,
        "execution_start": 1617918926632,
        "deepnote_cell_type": "code"
      },
      "source": "for x in week:\n    print(x*10)",
      "execution_count": 24,
      "outputs": [
        {
          "name": "stdout",
          "text": "80\n40\n70\n60\n60\n40\n60\n",
          "output_type": "stream"
        }
      ]
    },
    {
      "cell_type": "code",
      "metadata": {
        "tags": [],
        "cell_id": "00027-453b936b-0875-41c9-ba35-91c3f0714615",
        "deepnote_to_be_reexecuted": false,
        "source_hash": "62ec083",
        "execution_millis": 1,
        "execution_start": 1617918926634,
        "deepnote_cell_type": "code"
      },
      "source": "Q4 = []",
      "execution_count": 25,
      "outputs": []
    },
    {
      "cell_type": "code",
      "metadata": {
        "tags": [],
        "cell_id": "00025-3c3fc009-2513-4c10-b4e3-ccebaef4689b",
        "deepnote_to_be_reexecuted": false,
        "source_hash": "556caceb",
        "execution_millis": 119,
        "execution_start": 1617918926635,
        "deepnote_cell_type": "code"
      },
      "source": "Q4",
      "execution_count": 26,
      "outputs": [
        {
          "output_type": "execute_result",
          "execution_count": 26,
          "data": {
            "text/plain": "[]"
          },
          "metadata": {}
        }
      ]
    },
    {
      "cell_type": "code",
      "metadata": {
        "tags": [],
        "cell_id": "00026-9f44fe57-4846-406a-a56b-27a9d24a294d",
        "deepnote_to_be_reexecuted": false,
        "source_hash": "4b723086",
        "execution_millis": 0,
        "execution_start": 1617918926648,
        "deepnote_cell_type": "code"
      },
      "source": "for x in week:\n    Q4.append(x*10)",
      "execution_count": 27,
      "outputs": []
    },
    {
      "cell_type": "code",
      "metadata": {
        "tags": [],
        "cell_id": "00027-eedf2b64-6be5-46f3-8f15-3b3a7f50fee0",
        "deepnote_to_be_reexecuted": false,
        "source_hash": "556caceb",
        "execution_millis": 102,
        "execution_start": 1617918926652,
        "deepnote_cell_type": "code"
      },
      "source": "Q4",
      "execution_count": 28,
      "outputs": [
        {
          "output_type": "execute_result",
          "execution_count": 28,
          "data": {
            "text/plain": "[80, 40, 70, 60, 60, 40, 60]"
          },
          "metadata": {}
        }
      ]
    },
    {
      "cell_type": "code",
      "metadata": {
        "tags": [],
        "cell_id": "00028-d74b5c42-72f5-4cd9-8d19-8aace77dced5",
        "deepnote_to_be_reexecuted": false,
        "source_hash": "27327ee4",
        "execution_millis": 0,
        "execution_start": 1617918926653,
        "deepnote_cell_type": "code"
      },
      "source": "adadha = [ 1 , 5 , 4]",
      "execution_count": 29,
      "outputs": []
    },
    {
      "cell_type": "code",
      "metadata": {
        "tags": [],
        "cell_id": "00029-72d671a4-2319-4c3e-934c-5071b386a9f5",
        "deepnote_to_be_reexecuted": false,
        "source_hash": "3602f38b",
        "execution_millis": 88,
        "execution_start": 1617918926666,
        "deepnote_cell_type": "code"
      },
      "source": "adadha",
      "execution_count": 30,
      "outputs": [
        {
          "output_type": "execute_result",
          "execution_count": 30,
          "data": {
            "text/plain": "[1, 5, 4]"
          },
          "metadata": {}
        }
      ]
    },
    {
      "cell_type": "code",
      "metadata": {
        "tags": [],
        "cell_id": "00030-189b6fdd-6c44-4a62-aeed-e17e23df90c9",
        "deepnote_to_be_reexecuted": false,
        "source_hash": "6c6db96",
        "execution_millis": 1,
        "execution_start": 1617918926715,
        "deepnote_cell_type": "code"
      },
      "source": "adadha.append(2)",
      "execution_count": 31,
      "outputs": []
    },
    {
      "cell_type": "code",
      "metadata": {
        "tags": [],
        "cell_id": "00031-964f4e18-f580-4475-b0b1-ed10b4f7b342",
        "deepnote_to_be_reexecuted": false,
        "source_hash": "3602f38b",
        "execution_millis": 38,
        "execution_start": 1617918926716,
        "deepnote_cell_type": "code"
      },
      "source": "adadha",
      "execution_count": 32,
      "outputs": [
        {
          "output_type": "execute_result",
          "execution_count": 32,
          "data": {
            "text/plain": "[1, 5, 4, 2]"
          },
          "metadata": {}
        }
      ]
    },
    {
      "cell_type": "code",
      "metadata": {
        "tags": [],
        "cell_id": "00032-43e72924-6b33-4a51-8fdd-ca0dcb667928",
        "deepnote_to_be_reexecuted": false,
        "source_hash": "fc55cd50",
        "execution_millis": 0,
        "execution_start": 1617918926717,
        "deepnote_cell_type": "code"
      },
      "source": "adadha.count(2)",
      "execution_count": 33,
      "outputs": [
        {
          "output_type": "execute_result",
          "execution_count": 33,
          "data": {
            "text/plain": "1"
          },
          "metadata": {}
        }
      ]
    },
    {
      "cell_type": "code",
      "metadata": {
        "tags": [],
        "cell_id": "00033-2f6d188d-fc89-45ff-a27f-eae8578d6685",
        "deepnote_to_be_reexecuted": false,
        "source_hash": "23d3ec80",
        "execution_millis": 6,
        "execution_start": 1617918926718,
        "deepnote_cell_type": "code"
      },
      "source": "week",
      "execution_count": 34,
      "outputs": [
        {
          "output_type": "execute_result",
          "execution_count": 34,
          "data": {
            "text/plain": "[8, 4, 7, 6, 6, 4, 6]"
          },
          "metadata": {}
        }
      ]
    },
    {
      "cell_type": "code",
      "metadata": {
        "tags": [],
        "cell_id": "00034-e26674d0-9003-41a9-9363-1ef6b1398920",
        "deepnote_to_be_reexecuted": false,
        "source_hash": "8f37528f",
        "execution_millis": 37,
        "execution_start": 1617918926718,
        "deepnote_cell_type": "code"
      },
      "source": "week.count(6)",
      "execution_count": 35,
      "outputs": [
        {
          "output_type": "execute_result",
          "execution_count": 35,
          "data": {
            "text/plain": "3"
          },
          "metadata": {}
        }
      ]
    },
    {
      "cell_type": "code",
      "metadata": {
        "tags": [],
        "cell_id": "00035-3066c17b-89f5-47d3-b738-f747b8310ae1",
        "deepnote_to_be_reexecuted": false,
        "source_hash": "23dffc27",
        "execution_millis": 35,
        "execution_start": 1617918926720,
        "deepnote_cell_type": "code"
      },
      "source": "range(0,7)",
      "execution_count": 36,
      "outputs": [
        {
          "output_type": "execute_result",
          "execution_count": 36,
          "data": {
            "text/plain": "range(0, 7)"
          },
          "metadata": {}
        }
      ]
    },
    {
      "cell_type": "code",
      "metadata": {
        "tags": [],
        "cell_id": "00036-7939f9bc-fc26-49cb-9909-ef1e8dc0996a",
        "deepnote_to_be_reexecuted": false,
        "source_hash": "24e72d28",
        "execution_millis": 34,
        "execution_start": 1617918926721,
        "deepnote_cell_type": "code"
      },
      "source": "for a in range(0,7):\n    print(a)",
      "execution_count": 37,
      "outputs": [
        {
          "name": "stdout",
          "text": "0\n1\n2\n3\n4\n5\n6\n",
          "output_type": "stream"
        }
      ]
    },
    {
      "cell_type": "code",
      "metadata": {
        "tags": [],
        "cell_id": "00037-1a6ae2c1-9162-4e3f-9825-97b3a1d3e033",
        "deepnote_to_be_reexecuted": false,
        "source_hash": "8191b6b0",
        "execution_millis": 30,
        "execution_start": 1617918926725,
        "deepnote_cell_type": "code"
      },
      "source": "for a in range(4,9):\n    print(a)",
      "execution_count": 38,
      "outputs": [
        {
          "name": "stdout",
          "text": "4\n5\n6\n7\n8\n",
          "output_type": "stream"
        }
      ]
    },
    {
      "cell_type": "code",
      "metadata": {
        "tags": [],
        "cell_id": "00038-4c0003c9-4b39-4527-954b-42080804f851",
        "deepnote_to_be_reexecuted": false,
        "source_hash": "23d3ec80",
        "execution_millis": 30,
        "execution_start": 1617918926726,
        "deepnote_cell_type": "code"
      },
      "source": "week",
      "execution_count": 39,
      "outputs": [
        {
          "output_type": "execute_result",
          "execution_count": 39,
          "data": {
            "text/plain": "[8, 4, 7, 6, 6, 4, 6]"
          },
          "metadata": {}
        }
      ]
    },
    {
      "cell_type": "code",
      "metadata": {
        "tags": [],
        "cell_id": "00039-80cd986b-45a3-45ca-b124-002c4be5a187",
        "deepnote_to_be_reexecuted": false,
        "source_hash": "6a7875f",
        "execution_millis": 27,
        "execution_start": 1617918926729,
        "deepnote_cell_type": "code"
      },
      "source": "for i in range(0,7):\n    print(week[i])",
      "execution_count": 40,
      "outputs": [
        {
          "name": "stdout",
          "text": "8\n4\n7\n6\n6\n4\n6\n",
          "output_type": "stream"
        }
      ]
    },
    {
      "cell_type": "code",
      "metadata": {
        "tags": [],
        "cell_id": "00040-1bbe3845-9043-4c98-b986-14d8ddf11723",
        "deepnote_to_be_reexecuted": false,
        "source_hash": "ea5c7ed1",
        "execution_millis": 24,
        "execution_start": 1617918926732,
        "deepnote_cell_type": "code"
      },
      "source": "for j in week:\n    print(j)",
      "execution_count": 41,
      "outputs": [
        {
          "name": "stdout",
          "text": "8\n4\n7\n6\n6\n4\n6\n",
          "output_type": "stream"
        }
      ]
    },
    {
      "cell_type": "code",
      "metadata": {
        "tags": [],
        "cell_id": "00041-1bb31474-b763-4896-ac60-397ca31732aa",
        "deepnote_to_be_reexecuted": false,
        "source_hash": "69bc2e9",
        "execution_millis": 19,
        "execution_start": 1617918926737,
        "deepnote_cell_type": "code"
      },
      "source": "for i in range(0,7):\n    if i >0:\n        print(week[i]*10)\n    else:\n        print(week[i]*15)",
      "execution_count": 42,
      "outputs": [
        {
          "name": "stdout",
          "text": "120\n40\n70\n60\n60\n40\n60\n",
          "output_type": "stream"
        }
      ]
    },
    {
      "cell_type": "code",
      "metadata": {
        "tags": [],
        "cell_id": "00042-745bf903-6659-45d9-9fb1-3470ed578eb0",
        "deepnote_to_be_reexecuted": false,
        "source_hash": "7aaf891c",
        "execution_millis": 1,
        "execution_start": 1617918926743,
        "deepnote_cell_type": "code"
      },
      "source": "Q5 = []",
      "execution_count": 43,
      "outputs": []
    },
    {
      "cell_type": "code",
      "metadata": {
        "tags": [],
        "cell_id": "00043-b434a663-8662-4499-a760-f5df48ecf03b",
        "deepnote_to_be_reexecuted": false,
        "source_hash": "fb97fcef",
        "execution_millis": 0,
        "execution_start": 1617918926762,
        "deepnote_cell_type": "code"
      },
      "source": "for i in range(0,7):\n    if i >0:\n        Q5.append(week[i]*10)\n    else:\n        Q5.append(week[i]*15)",
      "execution_count": 44,
      "outputs": []
    },
    {
      "cell_type": "code",
      "metadata": {
        "tags": [],
        "cell_id": "00044-e63e8e85-c352-4bc2-8c09-368f3e1ce833",
        "deepnote_to_be_reexecuted": false,
        "source_hash": "37fd4d54",
        "execution_millis": 12,
        "execution_start": 1617918926763,
        "deepnote_cell_type": "code"
      },
      "source": "Q5",
      "execution_count": 45,
      "outputs": [
        {
          "output_type": "execute_result",
          "execution_count": 45,
          "data": {
            "text/plain": "[120, 40, 70, 60, 60, 40, 60]"
          },
          "metadata": {}
        }
      ]
    },
    {
      "cell_type": "code",
      "metadata": {
        "tags": [],
        "cell_id": "00045-e06402fa-24c1-4c67-a8db-ca25bf62db42",
        "deepnote_to_be_reexecuted": false,
        "source_hash": "f07bef0b",
        "execution_millis": 1,
        "execution_start": 1617918926764,
        "deepnote_cell_type": "code"
      },
      "source": "number = 16",
      "execution_count": 46,
      "outputs": []
    },
    {
      "cell_type": "code",
      "metadata": {
        "tags": [],
        "cell_id": "00046-6b1d730d-c0ca-4f3e-a42e-5360771424da",
        "deepnote_to_be_reexecuted": false,
        "source_hash": "f85b3cdf",
        "execution_millis": 31,
        "execution_start": 1617918926765,
        "deepnote_cell_type": "code"
      },
      "source": "number",
      "execution_count": 47,
      "outputs": [
        {
          "output_type": "execute_result",
          "execution_count": 47,
          "data": {
            "text/plain": "16"
          },
          "metadata": {}
        }
      ]
    },
    {
      "cell_type": "code",
      "metadata": {
        "tags": [],
        "cell_id": "00047-6365228e-f6d0-43d4-9b4c-da6ffdaf67b5",
        "deepnote_to_be_reexecuted": false,
        "source_hash": "305b9766",
        "execution_millis": 15,
        "execution_start": 1617918926811,
        "deepnote_cell_type": "code"
      },
      "source": "if number == 16:\n    print('adad 16 ast')",
      "execution_count": 48,
      "outputs": [
        {
          "name": "stdout",
          "text": "adad 16 ast\n",
          "output_type": "stream"
        }
      ]
    },
    {
      "cell_type": "code",
      "metadata": {
        "tags": [],
        "cell_id": "00048-e1660f49-fac1-4a21-8c87-c01090566d74",
        "deepnote_to_be_reexecuted": false,
        "source_hash": "9ffa644b",
        "execution_millis": 0,
        "execution_start": 1617918926812,
        "deepnote_cell_type": "code"
      },
      "source": "if number == 18:\n    print('koochiktar')",
      "execution_count": 49,
      "outputs": []
    },
    {
      "cell_type": "code",
      "metadata": {
        "tags": [],
        "cell_id": "00049-af826a31-6361-4165-a801-761fe6118d4f",
        "deepnote_to_be_reexecuted": false,
        "source_hash": "37fd4d54",
        "execution_millis": 14,
        "execution_start": 1617918926812,
        "deepnote_cell_type": "code"
      },
      "source": "Q5",
      "execution_count": 50,
      "outputs": [
        {
          "output_type": "execute_result",
          "execution_count": 50,
          "data": {
            "text/plain": "[120, 40, 70, 60, 60, 40, 60]"
          },
          "metadata": {}
        }
      ]
    },
    {
      "cell_type": "code",
      "metadata": {
        "tags": [],
        "cell_id": "00051-4a4d5ec1-4d9d-427f-9aad-f2437b94e8e7",
        "deepnote_to_be_reexecuted": false,
        "source_hash": "50aaf49e",
        "execution_millis": 12,
        "execution_start": 1617918926814,
        "deepnote_cell_type": "code"
      },
      "source": "Q5[5]+Q5[6]",
      "execution_count": 51,
      "outputs": [
        {
          "output_type": "execute_result",
          "execution_count": 51,
          "data": {
            "text/plain": "100"
          },
          "metadata": {}
        }
      ]
    },
    {
      "cell_type": "code",
      "metadata": {
        "tags": [],
        "cell_id": "00051-c7d588b4-ac6b-4c18-a519-068784634f05",
        "deepnote_to_be_reexecuted": false,
        "source_hash": "9e4b75b3",
        "execution_millis": 10,
        "execution_start": 1617918926816,
        "deepnote_cell_type": "code"
      },
      "source": "Q5[-1]",
      "execution_count": 52,
      "outputs": [
        {
          "output_type": "execute_result",
          "execution_count": 52,
          "data": {
            "text/plain": "60"
          },
          "metadata": {}
        }
      ]
    },
    {
      "cell_type": "code",
      "metadata": {
        "tags": [],
        "cell_id": "00052-fb83f066-f344-416a-8a3e-cc8d04df071c",
        "deepnote_to_be_reexecuted": false,
        "source_hash": "3314d0dc",
        "execution_millis": 15,
        "execution_start": 1617918926837,
        "deepnote_cell_type": "code"
      },
      "source": "Q5[-2]",
      "execution_count": 53,
      "outputs": [
        {
          "output_type": "execute_result",
          "execution_count": 53,
          "data": {
            "text/plain": "40"
          },
          "metadata": {}
        }
      ]
    },
    {
      "cell_type": "code",
      "metadata": {
        "tags": [],
        "cell_id": "00053-edb47050-079a-4137-9fce-0a05d5164c25",
        "deepnote_to_be_reexecuted": false,
        "source_hash": "d49bd3e2",
        "execution_millis": 1,
        "execution_start": 1617918926838,
        "deepnote_cell_type": "code"
      },
      "source": "Q6=round((Q5[-1]+Q5[-2])/sum(Q5)*100,3)",
      "execution_count": 54,
      "outputs": []
    },
    {
      "cell_type": "code",
      "metadata": {
        "tags": [],
        "cell_id": "00054-30c05d93-2fc3-4a50-aa65-647c202a7883",
        "deepnote_to_be_reexecuted": false,
        "source_hash": "e481ac92",
        "execution_millis": 13,
        "execution_start": 1617918926840,
        "deepnote_cell_type": "code"
      },
      "source": "Q6",
      "execution_count": 55,
      "outputs": [
        {
          "output_type": "execute_result",
          "execution_count": 55,
          "data": {
            "text/plain": "22.222"
          },
          "metadata": {}
        }
      ]
    },
    {
      "cell_type": "code",
      "metadata": {
        "tags": [],
        "cell_id": "00055-3176947a-461c-4255-b704-97db2cd12f25",
        "deepnote_to_be_reexecuted": false,
        "source_hash": "55d74c9c",
        "execution_millis": 6,
        "execution_start": 1617919151258,
        "deepnote_cell_type": "code"
      },
      "source": "print('Q1:',Q1)\nprint('Q2:',Q2)\nprint('Q3:',Q3)\nprint('Q4:',Q4)\nprint('Q5:',Q5)\nprint('Q6:',Q6)",
      "execution_count": 56,
      "outputs": [
        {
          "name": "stdout",
          "text": "Q1: 41\nQ2: [21, 14]\nQ3: 5.86\nQ4: [80, 40, 70, 60, 60, 40, 60]\nQ5: [120, 40, 70, 60, 60, 40, 60]\nQ6: 22.222\n",
          "output_type": "stream"
        }
      ]
    },
    {
      "cell_type": "code",
      "source": "",
      "metadata": {
        "tags": [],
        "cell_id": "00056-ffcebb99-507e-4159-9240-c27f2f72ab8f",
        "deepnote_cell_type": "code"
      },
      "outputs": [],
      "execution_count": null
    },
    {
      "cell_type": "markdown",
      "source": "<a style='text-decoration:none;line-height:16px;display:flex;color:#5B5B62;padding:10px;justify-content:end;' href='https://deepnote.com?utm_source=created-in-deepnote-cell&projectId=78568a49-c85f-41b4-977f-741b1f2ff318' target=\"_blank\">\n<img alt='Created in deepnote.com' style='display:inline;max-height:16px;margin:0px;margin-right:7.5px;' src='data:image/svg+xml;base64,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' > </img>\nCreated in <span style='font-weight:600;margin-left:4px;'>Deepnote</span></a>",
      "metadata": {
        "tags": [],
        "created_in_deepnote_cell": true,
        "deepnote_cell_type": "markdown"
      }
    }
  ],
  "nbformat": 4,
  "nbformat_minor": 2,
  "metadata": {
    "orig_nbformat": 2,
    "deepnote": {
      "is_reactive": false
    },
    "deepnote_notebook_id": "f327eef8-193b-48e2-965b-77f540751c15",
    "deepnote_execution_queue": []
  }
}